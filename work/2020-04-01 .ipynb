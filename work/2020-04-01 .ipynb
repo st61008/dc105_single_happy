{
 "cells": [
  {
   "cell_type": "code",
   "execution_count": 1,
   "metadata": {},
   "outputs": [],
   "source": [
    "#使用python的request模組去訪問https://jsonplaceholder.typicode.com/users  取得第2,3,4,5 筆資料，\n",
    "\n",
    "#python request get example"
   ]
  },
  {
   "cell_type": "code",
   "execution_count": 12,
   "metadata": {},
   "outputs": [
    {
     "name": "stdout",
     "output_type": "stream",
     "text": [
      "['Untitled1.ipynb', '.ipynb_checkpoints', 'Untitled.ipynb']\n",
      "[\n",
      "  {\n",
      "    \"id\": 2,\n",
      "    \"name\": \"Ervin Howell\",\n",
      "    \"username\": \"Antonette\",\n",
      "    \"email\": \"Shanna@melissa.tv\",\n",
      "    \"address\": {\n",
      "      \"street\": \"Victor Plains\",\n",
      "      \"suite\": \"Suite 879\",\n",
      "      \"city\": \"Wisokyburgh\",\n",
      "      \"zipcode\": \"90566-7771\",\n",
      "      \"geo\": {\n",
      "        \"lat\": \"-43.9509\",\n",
      "        \"lng\": \"-34.4618\"\n",
      "      }\n",
      "    },\n",
      "    \"phone\": \"010-692-6593 x09125\",\n",
      "    \"website\": \"anastasia.net\",\n",
      "    \"company\": {\n",
      "      \"name\": \"Deckow-Crist\",\n",
      "      \"catchPhrase\": \"Proactive didactic contingency\",\n",
      "      \"bs\": \"synergize scalable supply-chains\"\n",
      "    }\n",
      "  },\n",
      "  {\n",
      "    \"id\": 3,\n",
      "    \"name\": \"Clementine Bauch\",\n",
      "    \"username\": \"Samantha\",\n",
      "    \"email\": \"Nathan@yesenia.net\",\n",
      "    \"address\": {\n",
      "      \"street\": \"Douglas Extension\",\n",
      "      \"suite\": \"Suite 847\",\n",
      "      \"city\": \"McKenziehaven\",\n",
      "      \"zipcode\": \"59590-4157\",\n",
      "      \"geo\": {\n",
      "        \"lat\": \"-68.6102\",\n",
      "        \"lng\": \"-47.0653\"\n",
      "      }\n",
      "    },\n",
      "    \"phone\": \"1-463-123-4447\",\n",
      "    \"website\": \"ramiro.info\",\n",
      "    \"company\": {\n",
      "      \"name\": \"Romaguera-Jacobson\",\n",
      "      \"catchPhrase\": \"Face to face bifurcated interface\",\n",
      "      \"bs\": \"e-enable strategic applications\"\n",
      "    }\n",
      "  },\n",
      "  {\n",
      "    \"id\": 4,\n",
      "    \"name\": \"Patricia Lebsack\",\n",
      "    \"username\": \"Karianne\",\n",
      "    \"email\": \"Julianne.OConner@kory.org\",\n",
      "    \"address\": {\n",
      "      \"street\": \"Hoeger Mall\",\n",
      "      \"suite\": \"Apt. 692\",\n",
      "      \"city\": \"South Elvis\",\n",
      "      \"zipcode\": \"53919-4257\",\n",
      "      \"geo\": {\n",
      "        \"lat\": \"29.4572\",\n",
      "        \"lng\": \"-164.2990\"\n",
      "      }\n",
      "    },\n",
      "    \"phone\": \"493-170-9623 x156\",\n",
      "    \"website\": \"kale.biz\",\n",
      "    \"company\": {\n",
      "      \"name\": \"Robel-Corkery\",\n",
      "      \"catchPhrase\": \"Multi-tiered zero tolerance productivity\",\n",
      "      \"bs\": \"transition cutting-edge web services\"\n",
      "    }\n",
      "  },\n",
      "  {\n",
      "    \"id\": 5,\n",
      "    \"name\": \"Chelsey Dietrich\",\n",
      "    \"username\": \"Kamren\",\n",
      "    \"email\": \"Lucio_Hettinger@annie.ca\",\n",
      "    \"address\": {\n",
      "      \"street\": \"Skiles Walks\",\n",
      "      \"suite\": \"Suite 351\",\n",
      "      \"city\": \"Roscoeview\",\n",
      "      \"zipcode\": \"33263\",\n",
      "      \"geo\": {\n",
      "        \"lat\": \"-31.8129\",\n",
      "        \"lng\": \"62.5342\"\n",
      "      }\n",
      "    },\n",
      "    \"phone\": \"(254)954-1289\",\n",
      "    \"website\": \"demarco.info\",\n",
      "    \"company\": {\n",
      "      \"name\": \"Keebler LLC\",\n",
      "      \"catchPhrase\": \"User-centric fault-tolerant solution\",\n",
      "      \"bs\": \"revolutionize end-to-end systems\"\n",
      "    }\n",
      "  }\n",
      "]\n"
     ]
    }
   ],
   "source": [
    "import requests,datetime,os,sys\n",
    "\n",
    "\n",
    "payload = {'id': ['2', '3', '4', '5']}\n",
    "\n",
    "r = requests.get('https://jsonplaceholder.typicode.com/users', params=payload)\n",
    "\n",
    "print ( os.listdir(os.getcwd()))\n",
    "\n",
    "print(r.text)\n",
    "\n"
   ]
  },
  {
   "cell_type": "code",
   "execution_count": null,
   "metadata": {},
   "outputs": [],
   "source": []
  },
  {
   "cell_type": "code",
   "execution_count": null,
   "metadata": {},
   "outputs": [],
   "source": []
  },
  {
   "cell_type": "code",
   "execution_count": null,
   "metadata": {},
   "outputs": [],
   "source": []
  },
  {
   "cell_type": "code",
   "execution_count": null,
   "metadata": {},
   "outputs": [],
   "source": []
  },
  {
   "cell_type": "code",
   "execution_count": null,
   "metadata": {},
   "outputs": [],
   "source": []
  },
  {
   "cell_type": "code",
   "execution_count": null,
   "metadata": {},
   "outputs": [],
   "source": []
  }
 ],
 "metadata": {
  "kernelspec": {
   "display_name": "Python 3",
   "language": "python",
   "name": "python3"
  },
  "language_info": {
   "codemirror_mode": {
    "name": "ipython",
    "version": 3
   },
   "file_extension": ".py",
   "mimetype": "text/x-python",
   "name": "python",
   "nbconvert_exporter": "python",
   "pygments_lexer": "ipython3",
   "version": "3.7.6"
  }
 },
 "nbformat": 4,
 "nbformat_minor": 4
}
